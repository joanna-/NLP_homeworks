{
 "cells": [
  {
   "cell_type": "code",
   "execution_count": 1,
   "metadata": {},
   "outputs": [],
   "source": [
    "# put absolute path here\n",
    "DATA_DIR = r\"C:\\Users\\Joanna\\NLP_homeworks\\json\""
   ]
  },
  {
   "cell_type": "code",
   "execution_count": 2,
   "metadata": {},
   "outputs": [],
   "source": [
    "# making usage of my helper .py file in jupyter environment on any computer\n",
    "import os, sys\n",
    "module_path = os.path.abspath(os.path.join('..'))\n",
    "if module_path not in sys.path:\n",
    "    sys.path.append(module_path)\n",
    "from file_utils import *\n",
    "data_manager = DataManager(DATA_DIR)"
   ]
  },
  {
   "cell_type": "code",
   "execution_count": 3,
   "metadata": {},
   "outputs": [],
   "source": [
    "# Actual homework starts here\n",
    "import re\n",
    "generator = data_manager.judgments_generator(year=2009)"
   ]
  },
  {
   "cell_type": "code",
   "execution_count": 4,
   "metadata": {},
   "outputs": [],
   "source": [
    "def make_value_from_match(number_group, magnitude_group):\n",
    "    number_group = re.sub(re.compile(r'\\s+'), '', number_group)\n",
    "    magnitudes = {'tys': 1000, 'mln':10e6, 'mld':10e9, '': 1}\n",
    "    return int(number_group.replace('.', '')) * magnitudes[magnitude_group.replace('.', '')]"
   ]
  },
  {
   "cell_type": "code",
   "execution_count": 5,
   "metadata": {},
   "outputs": [],
   "source": [
    "#MONEY REGEX\n",
    "value = r'(?:\\d+(?P<sep>\\.|(?:\\s)))?(?:\\d+(?P=sep))*\\d+'\n",
    "\n",
    "magnitude = r'(?:mld|mln|tys)?(?:\\.)?'\n",
    "currency = r'(?:starych)?\\s*(?:złotych|zł)'\n",
    "\n",
    "money_regex = r'((%s)\\s*(%s)\\s*(%s))' % (value, magnitude, currency)"
   ]
  },
  {
   "cell_type": "code",
   "execution_count": 6,
   "metadata": {},
   "outputs": [],
   "source": [
    "# singular_forms = \"szkoda\", \"szkodzie\", \"szkodę\", \"szkodą\", \"szkodo\"\n",
    "# plural_forms = \"szkody\", \"szkód\", \"szkodom\", \"szkodami\", \"szkodach\"\n",
    "\n",
    "damage_regex = r'\\b((szkod(?:a|zie|ę|ą|o|y|om|ami|ach))|szkód)\\b'"
   ]
  },
  {
   "cell_type": "code",
   "execution_count": null,
   "metadata": {},
   "outputs": [],
   "source": [
    "plot_data_to_mln = []\n",
    "plot_data_from_mln = []\n",
    "\n",
    "amounts_counter = 0\n",
    "damage_counter = 0\n",
    "while True:\n",
    "    try:\n",
    "        content = generator.__next__()\n",
    "        if re.search(damage_regex, content[\"textContent\"]) is not None:\n",
    "            damage_counter += 1\n",
    "#             print(content[\"id\"])\n",
    "#             print(re.search(damage_regex, content[\"textContent\"]))\n",
    "        words = re.findall(money_regex, content[\"textContent\"])\n",
    "        for word in words:\n",
    "#             print(content[\"id\"])\n",
    "#             print(word)\n",
    "            value = make_value_from_match(word[1], word[3])\n",
    "#             print(value)\n",
    "            plot_data_to_mln.append(value) if value <= 1000000 else plot_data_from_mln.append(value)\n",
    "        amounts_counter += len(words)\n",
    "    except StopIteration:\n",
    "        break\n",
    "print(\"Total number of gathered amounts: %d\" % amounts_counter)   \n",
    "print(\"Total number of judgments with damage word is: %d\" % damage_counter)  "
   ]
  },
  {
   "cell_type": "code",
   "execution_count": null,
   "metadata": {},
   "outputs": [],
   "source": [
    "# Uwaga: w orzeczeniu https://www.saos.org.pl/api/judgments/114212\n",
    "# znajduje sie kwota 4 136 000 000 mld zł, która mocno zaburza wykresy\n",
    "\n",
    "import matplotlib.pyplot as plt\n",
    "import numpy as np\n",
    "\n",
    "%matplotlib inline\n",
    "plt.figure(figsize=(18,5))\n",
    "plt.subplot(121)\n",
    "plt.hist(plot_data_to_mln + plot_data_from_mln, bins=100, log=True)\n",
    "plt.xlabel('values')\n",
    "plt.ylabel('count')\n",
    "plt.title('All data. X scale - linear, Y scale - log')\n",
    "\n",
    "plt.subplot(122)\n",
    "plt.hist(plot_data_to_mln + plot_data_from_mln, bins=[ 10**x for x in range(0, 21) ], log=True)\n",
    "plt.xlabel('values')\n",
    "plt.ylabel('count')\n",
    "plt.xscale('log')\n",
    "plt.title('All data. X scale - log, Y scale - log')\n",
    "\n",
    "\n",
    "plt.figure(figsize=(18,5))\n",
    "plt.subplot(121)\n",
    "plt.hist(plot_data_to_mln, bins=100)\n",
    "plt.xlabel('values')\n",
    "plt.ylabel('count')\n",
    "plt.title('Up to mln. Histogram with linear scales.')\n",
    "\n",
    "plt.subplot(122)\n",
    "plt.hist(plot_data_to_mln, bins=100, log=True)\n",
    "plt.xlabel('values')\n",
    "plt.ylabel('count')\n",
    "plt.title('Up to mln. Histogram with y axis log scale.')\n",
    "\n",
    "\n",
    "plt.figure(figsize=(18,5))\n",
    "plt.subplot(121)\n",
    "plt.hist(plot_data_from_mln, bins=100, log=True)\n",
    "plt.xlabel('values')\n",
    "plt.ylabel('count')\n",
    "plt.title('From mln. X scale - linear, Y scale - log')\n",
    "\n",
    "plt.subplot(122)\n",
    "plt.hist(plot_data_from_mln, bins=[ 10**x for x in range(6, 21)], log=True)\n",
    "plt.xlabel('values')\n",
    "plt.ylabel('count')\n",
    "plt.xscale('log')\n",
    "plt.title('From mln. X scale - log, Y scale - log')\n",
    "print(\"\") # prevent printing bins content  "
   ]
  },
  {
   "cell_type": "code",
   "execution_count": null,
   "metadata": {},
   "outputs": [],
   "source": []
  }
 ],
 "metadata": {
  "kernelspec": {
   "display_name": "Python 3",
   "language": "python",
   "name": "python3"
  },
  "language_info": {
   "codemirror_mode": {
    "name": "ipython",
    "version": 3
   },
   "file_extension": ".py",
   "mimetype": "text/x-python",
   "name": "python",
   "nbconvert_exporter": "python",
   "pygments_lexer": "ipython3",
   "version": "3.6.3"
  }
 },
 "nbformat": 4,
 "nbformat_minor": 2
}
