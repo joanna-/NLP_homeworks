{
 "cells": [
  {
   "cell_type": "code",
   "execution_count": 1,
   "metadata": {},
   "outputs": [],
   "source": [
    "# put absolute path here\n",
    "DATA_DIR = r\"C:\\Users\\Joanna\\NLP_homeworks\\json\""
   ]
  },
  {
   "cell_type": "code",
   "execution_count": 2,
   "metadata": {},
   "outputs": [],
   "source": [
    "import os\n",
    "import json\n",
    "\n",
    "class DataManager:\n",
    "    JUDGMENT_DATE_KEY = \"judgmentDate\"\n",
    "    COURT_TYPE_KEY = \"courtType\"\n",
    "\n",
    "    def __init__(self, data_dir):\n",
    "        self.data_dir = data_dir\n",
    "\n",
    "    def get_judgment_year(self, json_content):\n",
    "        return int(json_content[self.JUDGMENT_DATE_KEY][:4])\n",
    "\n",
    "    def judgments_generator(self, year='all'):\n",
    "        for filename in os.listdir(self.data_dir):\n",
    "            if filename.endswith('.json') and filename.startswith('judgments'):\n",
    "                with open(os.path.join(self.data_dir, filename), 'r', encoding=\"utf8\") as content_file:\n",
    "                    content = content_file.read()\n",
    "                    parsed = json.loads(content)\n",
    "                    for judgment in parsed[\"items\"]:\n",
    "                        if year != 'all' and year == self.get_judgment_year(judgment) or year == 'all':           \n",
    "                            try:\n",
    "                                if(judgment[self.COURT_TYPE_KEY] in [\"COMMON\", \"SUPREME\"]):\n",
    "                                    yield judgment\n",
    "                            except:\n",
    "                                print(judgment[\"caseNumber\"])\n",
    "\n",
    "data_manager = DataManager(DATA_DIR)"
   ]
  },
  {
   "cell_type": "code",
   "execution_count": 3,
   "metadata": {},
   "outputs": [],
   "source": [
    "# Actual homework starts here\n",
    "import re\n",
    "generator = data_manager.judgments_generator(year=2009)"
   ]
  },
  {
   "cell_type": "code",
   "execution_count": 4,
   "metadata": {},
   "outputs": [],
   "source": [
    "import re\n",
    "\n",
    "judgments_groups_regex = {\n",
    "    r'A?C.*': ('sprawy cywilne', []),\n",
    "    r'A?U.*': ('sprawy z zakresu ubezpieczenia społecznego', []),\n",
    "    r'A?K.*': ('sprawy karne', []),\n",
    "    r'G.*': ('sprawy gospodarcze', []),\n",
    "    r'A?P.*': ('sprawy w zakresie prawa pracy', []),\n",
    "    r'R.*': ('sprawy w zakresie prawa rodzinnego', []),\n",
    "    r'W.*': ('sprawy o wykroczenia', []),\n",
    "    r'Am.*': ('sprawy w zakresie prawa konkurencji', []),\n",
    "}\n",
    "\n",
    "def assign_to_group(content):\n",
    "    for judg_regex in judgments_groups_regex.keys():\n",
    "        if re.match(judg_regex, content['courtCases'][0]['caseNumber'].split()[1]):\n",
    "            judgments_groups_regex[judg_regex][1].append(content)\n",
    "            return\n",
    "    print(content['courtCases'])        "
   ]
  },
  {
   "cell_type": "code",
   "execution_count": null,
   "metadata": {},
   "outputs": [],
   "source": [
    "c = 0\n",
    "while True:\n",
    "    try: \n",
    "        content = generator.__next__()\n",
    "        c += 1\n",
    "        text = remove_linebreaks(remove_html(content[\"textContent\"]))\n",
    "        assign_to_group(content)\n",
    "    except StopIteration:\n",
    "        break\n",
    "        \n",
    "for judg_regex in judgments_groups_regex.keys():\n",
    "    print(\"%s: %d\" % (judgments_groups_regex[judg_regex][0], len(judgments_groups_regex[judg_regex][1])))\n",
    "print(\"Total number of judgments: %d\" % c)"
   ]
  },
  {
   "cell_type": "code",
   "execution_count": null,
   "metadata": {},
   "outputs": [],
   "source": []
  }
 ],
 "metadata": {
  "kernelspec": {
   "display_name": "Python 3",
   "language": "python",
   "name": "python3"
  },
  "language_info": {
   "codemirror_mode": {
    "name": "ipython",
    "version": 3
   },
   "file_extension": ".py",
   "mimetype": "text/x-python",
   "name": "python",
   "nbconvert_exporter": "python",
   "pygments_lexer": "ipython3",
   "version": "3.6.3"
  }
 },
 "nbformat": 4,
 "nbformat_minor": 2
}
