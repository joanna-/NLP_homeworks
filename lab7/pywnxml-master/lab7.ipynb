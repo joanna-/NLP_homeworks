{
 "cells": [
  {
   "cell_type": "code",
   "execution_count": 1,
   "metadata": {},
   "outputs": [],
   "source": [
    "from WNQuery import *"
   ]
  },
  {
   "cell_type": "code",
   "execution_count": 2,
   "metadata": {},
   "outputs": [],
   "source": [
    "warnings_file = open('warnings.txt','w')\n",
    "wnquery = WNQuery(\"plwordnet_3_1/plwordnet-3.1-visdisc.xml\", log=warnings_file)"
   ]
  },
  {
   "cell_type": "code",
   "execution_count": 3,
   "metadata": {},
   "outputs": [
    {
     "name": "stdout",
     "output_type": "stream",
     "text": [
      "PoS\t\t#synsets\t#word senses\t#words\n",
      "Nouns\t\t132398\t\t176779\t\t134778\n",
      "Verbs\t\t27693\t\t38564\t\t19595\n",
      "Adjectives\t11256\t\t14035\t\t8006\n",
      "Adverbs\t\t0\t\t0\t\t0\n"
     ]
    }
   ],
   "source": [
    "import sys\n",
    "wnquery.writeStats(sys.stdout)"
   ]
  },
  {
   "cell_type": "code",
   "execution_count": 4,
   "metadata": {},
   "outputs": [
    {
     "name": "stdout",
     "output_type": "stream",
     "text": [
      "PLWN-00003675-n  {strata:1, utrata:1, szkoda:2, uszczerbek:1}  ()\n",
      "PLWN-00006533-n  {szkoda:1}  (brak danych)\n"
     ]
    }
   ],
   "source": [
    "# Znajdź wszystkie znaczenia rzeczownika szkoda oraz wymień ich synonimy (jeśli posiadają).\n",
    "meanings = wnquery.lookUpLiteral('szkoda', 'n')\n",
    "for meaning in meanings:\n",
    "    print(meaning.toString())"
   ]
  },
  {
   "cell_type": "code",
   "execution_count": 5,
   "metadata": {},
   "outputs": [
    {
     "name": "stdout",
     "output_type": "stream",
     "text": [
      "PLWN-00410902-n  {wypadek drogowy:1}  ()\n",
      "PLWN-00410901-n  {wypadek komunikacyjny:1}  ()\n",
      "PLWN-00003982-n  {wypadek:1}  ()\n",
      "PLWN-00027419-n  {zdarzenie oceniane negatywnie:1}  (brak danych)\n",
      "PLWN-00006526-n  {wydarzenie:1, wypadek:3, zdarzenie:2, historia:3}  ()\n"
     ]
    },
    {
     "data": {
      "image/png": "[encoded data removed]",
      "text/plain": [
       "<matplotlib.figure.Figure at 0x182042b9358>"
      ]
     },
     "metadata": {},
     "output_type": "display_data"
    }
   ],
   "source": [
    "# Znajdź domknięcie przechodnie relacji hiperonimi dla pierwszego znaczenia wyrażenia wypadek drogowy \n",
    "# i przedstaw je w postaci grafu skierowanego.\n",
    "meaning = wnquery.lookUpSense('wypadek drogowy', 1, 'n')\n",
    "graph = []\n",
    "\n",
    "def traceRelation(wnquery, wnid, pos, rel):\n",
    "    res = []\n",
    "    ids = wnquery.lookUpRelation(wnid, pos, rel)\n",
    "    res.append(wnid)\n",
    "    print(wnquery.getSynset(wnid, 'n').toString())\n",
    "    for i in ids:  \n",
    "        graph.append((wnid, i))\n",
    "        res.extend(traceRelation(wnquery, i, pos, rel))\n",
    "    return res\n",
    "\n",
    "traceRelation(wnquery, meaning.wnid, 'n', 'hypernym')\n",
    "\n",
    "import networkx as nx\n",
    "import numpy as np\n",
    "import matplotlib.pyplot as plt\n",
    "%matplotlib inline\n",
    "\n",
    "G = nx.DiGraph()\n",
    "G.add_edges_from(graph)\n",
    "plt.figure(figsize=(12,3)) \n",
    "nx.draw_spring(G, with_labels = True)\n",
    "plt.show()"
   ]
  },
  {
   "cell_type": "code",
   "execution_count": 6,
   "metadata": {},
   "outputs": [
    {
     "name": "stdout",
     "output_type": "stream",
     "text": [
      "PLWN-00001284-n  {zderzenie:2, kraksa:1}  ()\n",
      "PLWN-00006486-n  {kolizja:2}  ()\n",
      "PLWN-00016131-n  {karambol:1}  ()\n",
      "PLWN-00034688-n  {zawał:2}  ()\n",
      "PLWN-00034689-n  {tąpnięcie:1}  ()\n",
      "PLWN-00241026-n  {kapotaż:1}  ()\n",
      "PLWN-00258639-n  {wykolejenie:2}  ()\n",
      "PLWN-00389170-n  {zakrztuszenie:1, zachłyśnięcie:1, aspiracja:3}  ()\n",
      "PLWN-00410901-n  {wypadek komunikacyjny:1}  ()\n",
      "PLWN-00411618-n  {katastrofa budowlana:1}  ()\n",
      "PLWN-00436137-n  {wypadek jądrowy:1}  ()\n"
     ]
    }
   ],
   "source": [
    "# Znajdź bezpośrednie hiponimy rzeczownika wypadek1.\n",
    "meaning = wnquery.lookUpSense('wypadek', 1, 'n')\n",
    "relation = wnquery.lookUpRelation(meaning.wnid, meaning.pos, 'hyponym')\n",
    "for meaning in relation:\n",
    "    print(wnquery.getSynset(meaning, 'n').toString())"
   ]
  },
  {
   "cell_type": "code",
   "execution_count": 7,
   "metadata": {},
   "outputs": [
    {
     "name": "stdout",
     "output_type": "stream",
     "text": [
      "PLWN-00235346-n  {czołówka:9, zderzenie czołowe:1}  ()\n",
      "PLWN-00471555-n  {stłuczka:1}  ()\n",
      "PLWN-00441365-n  {kolizja drogowa:1}  ()\n",
      "PLWN-00037295-n  {obwał:1}  ()\n",
      "PLWN-00410902-n  {wypadek drogowy:1}  ()\n"
     ]
    }
   ],
   "source": [
    "# Znajdź hiponimy drugiego rzędu dla rzeczownika wypadek1.\n",
    "meaning = wnquery.lookUpSense('wypadek', 1, 'n')\n",
    "relation = wnquery.lookUpRelation(meaning.wnid, meaning.pos, 'hyponym')\n",
    "for meaning in relation:\n",
    "    synset = wnquery.getSynset(meaning, 'n')\n",
    "    relations = wnquery.lookUpRelation(synset.wnid, synset.pos, 'hyponym')\n",
    "    for rel in relations:\n",
    "        print(wnquery.getSynset(rel, 'n').toString())"
   ]
  },
  {
   "cell_type": "code",
   "execution_count": 8,
   "metadata": {},
   "outputs": [],
   "source": [
    "# Przedstaw w postaci grafu skierowanego (z etykietami dla krawędzi) relacje semantyczne pomiędzy następującymi grupami leksemów:\n",
    "# szkoda2, strata1, uszczerbek1, szkoda majątkowa1, uszczerbek na zdrowiu1, krzywda1, niesprawiedliwość1, nieszczęście2.\n",
    "pass\n",
    "# wypadek1, wypadek komunikacyjny1, kolizja2, zderzenie2, kolizja drogowa1, bezkolizyjny2, \n",
    "# katastrofa budowlana1, wypadek drogowy1.\n",
    "pass"
   ]
  }
 ],
 "metadata": {
  "kernelspec": {
   "display_name": "Python 3",
   "language": "python",
   "name": "python3"
  },
  "language_info": {
   "codemirror_mode": {
    "name": "ipython",
    "version": 3
   },
   "file_extension": ".py",
   "mimetype": "text/x-python",
   "name": "python",
   "nbconvert_exporter": "python",
   "pygments_lexer": "ipython3",
   "version": "3.6.3"
  }
 },
 "nbformat": 4,
 "nbformat_minor": 2
}
