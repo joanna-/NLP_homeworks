{
 "cells": [
  {
   "cell_type": "code",
   "execution_count": 1,
   "metadata": {},
   "outputs": [],
   "source": [
    "# put absolute path here\n",
    "DATA_DIR = r\"C:\\Users\\Joanna\\NLP_homeworks\\json\""
   ]
  },
  {
   "cell_type": "code",
   "execution_count": 2,
   "metadata": {},
   "outputs": [],
   "source": [
    "# making usage of my helper .py file in jupyter environment on any computer\n",
    "import os, sys\n",
    "module_path = os.path.abspath(os.path.join('..'))\n",
    "if module_path not in sys.path:\n",
    "    sys.path.append(module_path)\n",
    "from file_utils import *\n",
    "data_manager = DataManager(DATA_DIR)"
   ]
  },
  {
   "cell_type": "code",
   "execution_count": 3,
   "metadata": {},
   "outputs": [],
   "source": [
    "from elasticsearch_dsl import connections, InnerDoc, Text, DocType, Date, Keyword, Nested, Index, analyzer"
   ]
  },
  {
   "cell_type": "code",
   "execution_count": 4,
   "metadata": {},
   "outputs": [],
   "source": [
    "connections.create_connection(hosts=['localhost'], timeout=20)\n",
    "\n",
    "judgments = Index(name='judgments')\n",
    "analyzer = analyzer(\n",
    "    \"my_morfologik\",\n",
    "    tokenizer=\"standard\",\n",
    "    filter=[\"morfologik_stem\"],\n",
    "    analyzer=\"morfologik\"\n",
    ")\n",
    "judgments.analyzer(analyzer)\n",
    "judgments.delete(ignore=404)\n",
    "judgments.create()"
   ]
  },
  {
   "cell_type": "code",
   "execution_count": 5,
   "metadata": {},
   "outputs": [
    {
     "data": {
      "text/plain": [
       "__main__.Judgment"
      ]
     },
     "execution_count": 5,
     "metadata": {},
     "output_type": "execute_result"
    }
   ],
   "source": [
    "class Judge(InnerDoc):\n",
    "    name = Text()\n",
    "\n",
    "class Judgment(DocType):\n",
    "    text_field = Text(analyzer=analyzer)\n",
    "    date = Date()\n",
    "    signature = Keyword()\n",
    "    judges = Nested(Judge)\n",
    "    \n",
    "    def add_judge(self, name):\n",
    "        self.judges.append(Judge(name=name))\n",
    "        \n",
    "    class Meta:\n",
    "        index = 'judgments'\n",
    "        \n",
    "judgments.doc_type(Judgment)        "
   ]
  },
  {
   "cell_type": "code",
   "execution_count": 6,
   "metadata": {},
   "outputs": [
    {
     "name": "stdout",
     "output_type": "stream",
     "text": [
      "Processing finished\n"
     ]
    }
   ],
   "source": [
    "generator = data_manager.judgments_generator(year=2009)\n",
    "while True:\n",
    "    try:  \n",
    "        content = generator.__next__()\n",
    "        text = content[\"textContent\"]\n",
    "        date = content[\"judgmentDate\"]\n",
    "        signature = content[\"id\"]\n",
    "        \n",
    "        judgment = Judgment(text_field=text, date=date, signature=signature, judges=[])\n",
    "        for judge in content[\"judges\"]:\n",
    "            judgment.add_judge(name=judge['name'])\n",
    "        judgment.save()\n",
    "    except StopIteration:\n",
    "        print(\"Processing finished\")\n",
    "        break"
   ]
  },
  {
   "cell_type": "code",
   "execution_count": 7,
   "metadata": {},
   "outputs": [
    {
     "name": "stdout",
     "output_type": "stream",
     "text": [
      "Total number of judgments cotaining damage word is: 265\n"
     ]
    }
   ],
   "source": [
    "from elasticsearch_dsl import Search\n",
    "query = Search().query(\"match\", text_field=\"szkoda\")\n",
    "query.execute()\n",
    "print(\"Total number of judgments cotaining damage word is: %d\" % query.count())"
   ]
  },
  {
   "cell_type": "code",
   "execution_count": 8,
   "metadata": {},
   "outputs": [
    {
     "name": "stdout",
     "output_type": "stream",
     "text": [
      "Total number of judgments cotaining phrase 'trwały uszczerbek na zdrowiu': 4\n"
     ]
    }
   ],
   "source": [
    "#TODO: Make work for 'trwały uszczerbek na zdrowie'!\n",
    "query = Search().query(\"match_phrase\", text_field=\"trwały uszczerbek na zdrowiu\")\n",
    "query.execute()\n",
    "print(\"Total number of judgments cotaining phrase 'trwały uszczerbek na zdrowiu': %d\" % query.count())"
   ]
  },
  {
   "cell_type": "code",
   "execution_count": 10,
   "metadata": {},
   "outputs": [
    {
     "name": "stdout",
     "output_type": "stream",
     "text": [
      "Total number of judgments containing phrase 'trwały uszczerbek na zdrowiu' with span: 6\n"
     ]
    }
   ],
   "source": [
    "query = Search().query(\"span_near\", \n",
    "                       clauses=[\n",
    "                           {\"span_term\":{\"text_field\":\"trwały\"}},\n",
    "                           {\"span_term\":{\"text_field\":\"uszczerbek\"}},\n",
    "                           {\"span_term\":{\"text_field\":\"na\"}},\n",
    "                           {\"span_term\":{\"text_field\":\"zdrowiu\"}}\n",
    "                        ],\n",
    "                       slop=2,\n",
    "                       in_order= True)\n",
    "query.execute()\n",
    "print(\"Total number of judgments containing phrase 'trwały uszczerbek na zdrowiu' with span: %d\" % query.count())"
   ]
  },
  {
   "cell_type": "code",
   "execution_count": null,
   "metadata": {},
   "outputs": [],
   "source": []
  }
 ],
 "metadata": {
  "kernelspec": {
   "display_name": "Python 3",
   "language": "python",
   "name": "python3"
  },
  "language_info": {
   "codemirror_mode": {
    "name": "ipython",
    "version": 3
   },
   "file_extension": ".py",
   "mimetype": "text/x-python",
   "name": "python",
   "nbconvert_exporter": "python",
   "pygments_lexer": "ipython3",
   "version": "3.6.3"
  }
 },
 "nbformat": 4,
 "nbformat_minor": 2
}
