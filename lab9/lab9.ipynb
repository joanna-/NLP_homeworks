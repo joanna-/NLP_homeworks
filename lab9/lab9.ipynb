{
 "cells": [
  {
   "cell_type": "code",
   "execution_count": 1,
   "metadata": {},
   "outputs": [],
   "source": [
    "DATA_DIR = 'C:/Users/User/Downloads/saos-dump-23.02.2018.tar/saos-dump-23.02.2018/data/json'"
   ]
  },
  {
   "cell_type": "code",
   "execution_count": 2,
   "metadata": {},
   "outputs": [],
   "source": [
    "# making usage of my helper .py file in jupyter environment on any computer\n",
    "import os, sys\n",
    "module_path = os.path.abspath(os.path.join('..'))\n",
    "if module_path not in sys.path:\n",
    "    sys.path.append(module_path)\n",
    "from file_utils import *\n",
    "data_manager = DataManager(DATA_DIR)"
   ]
  },
  {
   "cell_type": "code",
   "execution_count": 3,
   "metadata": {},
   "outputs": [],
   "source": [
    "import re\n",
    "def remove_html(x):\n",
    "    return re.sub(\"<[^>]*>\", \"\", x)\n",
    "\n",
    "def remove_linebreaks(x):\n",
    "    return re.sub(\"-\\n\", \"\", x)"
   ]
  },
  {
   "cell_type": "code",
   "execution_count": 4,
   "metadata": {},
   "outputs": [],
   "source": [
    "# %%time\n",
    "\n",
    "# generator = data_manager.judgments_generator()\n",
    "\n",
    "# from nltk import sent_tokenize, word_tokenize\n",
    "\n",
    "# # sentences = []\n",
    "# text_processed = 0\n",
    "\n",
    "# with open('sentences.txt', 'w', encoding='utf-8') as the_file:\n",
    "#     while True:\n",
    "#         try:\n",
    "#             content = generator.__next__()\n",
    "#             text = remove_linebreaks(remove_html(content[\"textContent\"])).lower()\n",
    "#             text_processed += len(text)\n",
    "\n",
    "#             for sentence in sent_tokenize(text, language='polish'):\n",
    "# #                 sentences.append(word_tokenize(sentence))\n",
    "#                 the_file.write(re.sub( '\\s+', ' ', sentence ).strip() + \"\\n\")\n",
    "\n",
    "#             if text_processed >= 1073741824:\n",
    "#                 print(text_processed)\n",
    "#                 break\n",
    "\n",
    "#         except StopIteration:\n",
    "#             break"
   ]
  },
  {
   "cell_type": "code",
   "execution_count": 5,
   "metadata": {},
   "outputs": [
    {
     "name": "stdout",
     "output_type": "stream",
     "text": [
      "orzeczenie z dnia 28 maja 1986 r. /u 1/86 r./ trybunał konstytucyjny w składzie: przewodniczący: sędzia tk kazimierz działocha sędziowie tk: remigiusz orzechowski, stanisław pawela (sprawozdawca) protokolanci: ewa popławska-kośla i jerzy adam porowski po rozpoznaniu w dniach 25 i 29 kwietnia oraz 28 maja 1986 r. na rozprawie, z udziałem uczestników postępowania: umocowanych przedstawicieli rady ministrów i umocowanego przedstawiciela prokuratora generalnego prl, sprawy z wniosku prezydium wojewódzkiej rady narodowej we wrocławiu o wydanie orzeczenia stwierdzającego niezgodność: a) § 31 rozporządzenia rady ministrów z dnia 16 września 1985 r. w sprawie szczegółowych zasad i trybu oddawania w użytkowanie wieczyste gruntów i sprzedaży nieruchomości państwowych, kosztów i rozliczeń z tym związanych oraz zarządzania sprzedanymi nieruchomościami (dz.u.\n",
      "\n"
     ]
    }
   ],
   "source": [
    "with open('sentences.txt', 'r', encoding='utf-8') as the_file:\n",
    "    line = the_file.readline()\n",
    "print(line)"
   ]
  },
  {
   "cell_type": "code",
   "execution_count": 6,
   "metadata": {},
   "outputs": [
    {
     "name": "stderr",
     "output_type": "stream",
     "text": [
      "C:\\Users\\User\\Anaconda3\\lib\\site-packages\\gensim\\utils.py:1197: UserWarning: detected Windows; aliasing chunkize to chunkize_serial\n",
      "  warnings.warn(\"detected Windows; aliasing chunkize to chunkize_serial\")\n"
     ]
    },
    {
     "name": "stdout",
     "output_type": "stream",
     "text": [
      "Wall time: 647 ms\n"
     ]
    }
   ],
   "source": [
    "%%time\n",
    "\n",
    "from gensim.models import Phrases, Word2Vec\n",
    "from gensim.models.phrases import Phraser\n",
    "from gensim.models.word2vec import LineSentence\n",
    "\n",
    "sentences = LineSentence('sentences.txt')"
   ]
  },
  {
   "cell_type": "code",
   "execution_count": 7,
   "metadata": {},
   "outputs": [
    {
     "name": "stdout",
     "output_type": "stream",
     "text": [
      "Wall time: 30min 16s\n"
     ]
    }
   ],
   "source": [
    "%%time\n",
    "# parse bigrams\n",
    "bigram = Phraser(Phrases(sentences))\n",
    "bigram.save(\"./cache/bigram\")"
   ]
  },
  {
   "cell_type": "code",
   "execution_count": 8,
   "metadata": {},
   "outputs": [
    {
     "name": "stdout",
     "output_type": "stream",
     "text": [
      "Wall time: 21min 9s\n"
     ]
    }
   ],
   "source": [
    "%%time\n",
    "sentence_stream = [bigram[sentence] for sentence in sentences]\n",
    "trigram = Phraser(Phrases(sentence_stream))\n",
    "trigram.save(\"./cache/trigram\")"
   ]
  },
  {
   "cell_type": "code",
   "execution_count": 9,
   "metadata": {},
   "outputs": [
    {
     "name": "stdout",
     "output_type": "stream",
     "text": [
      "Wall time: 37min 31s\n"
     ]
    }
   ],
   "source": [
    "%%time\n",
    "model = Word2Vec([trigram[bigram[sentence]] for sentence in sentence_stream], \n",
    "                 window=5, size=300, sg=0, workers=os.cpu_count(), min_count=3)\n",
    "model.save(\"./cache/model\")"
   ]
  },
  {
   "cell_type": "code",
   "execution_count": 10,
   "metadata": {},
   "outputs": [
    {
     "name": "stdout",
     "output_type": "stream",
     "text": [
      "\n",
      " Sąd Najwyższy\n",
      "[('sąd_najwyższy,', 0.7859138250350952), ('sąd_najwyższy,_który', 0.7254941463470459), ('naczelny_sąd_administracyjny', 0.6940150260925293)]\n",
      "\n",
      " Trybunał Konstytucyjny\n",
      "[('trybunał', 0.9174637794494629), ('trybunał_konstytucyjny,', 0.8312042951583862), ('sejm', 0.7750335931777954)]\n",
      "\n",
      " kodeks cywilny\n",
      "[('kodeks', 0.751539945602417), ('kodeks_spółek_handlowych', 0.7389832735061646), ('konstytucja', 0.729667067527771)]\n",
      "\n",
      " kpk\n",
      "[('kpk,', 0.8941985368728638), ('k.p.k.,', 0.8694900274276733), ('§_1_kpk', 0.8575173020362854)]\n",
      "\n",
      " sąd rejonowy\n",
      "[('sad_rejonowy', 0.7865809202194214), ('sąd_pierwszej_instancji', 0.7686216831207275), ('sąd_rejonowy,', 0.7503820061683655)]\n",
      "\n",
      " szkoda\n",
      "[('szkoda_ta', 0.8079485893249512), ('powstała_szkoda', 0.7810192108154297), ('szkoda,', 0.7764935493469238)]\n",
      "\n",
      " wypadek\n",
      "[('skutek', 0.6012827754020691), ('przypadek', 0.5835483074188232), ('sam_fakt', 0.5715171694755554)]\n",
      "\n",
      " kolizja\n",
      "[('usterka', 0.715386688709259), ('akcja', 0.7097852826118469), ('awaria', 0.7086070775985718)]\n",
      "\n",
      " szkoda majątkowa\n",
      "[('krzywda', 0.7877734899520874), ('szkoda_niemajątkowa', 0.7815845608711243), ('szkoda,', 0.7757785320281982)]\n",
      "\n",
      " nieszczęście\n",
      "[('nasilanie_się', 0.7067815661430359), ('przesłanka_procesowa,', 0.690191388130188), ('szkodliwość_czynu,_stopień_winy,', 0.688485324382782)]\n",
      "\n",
      " rozwód\n",
      "[('rozwód,', 0.7255920767784119), ('rozwód.', 0.6767308712005615), ('rozwiązanie_małżeństwa', 0.6713401079177856)]\n"
     ]
    }
   ],
   "source": [
    "model = Word2Vec.load(\"./cache/model\")\n",
    "\n",
    "for phrase in [\n",
    "    \"sąd_najwyższy\",\n",
    "    \"trybunał_konstytucyjny\",\n",
    "    \"kodeks_cywilny\",\n",
    "    \"kpk\",\n",
    "    \"sąd_rejonowy\",\n",
    "    \"szkoda\",\n",
    "    \"wypadek\",\n",
    "    \"kolizja\",\n",
    "    \"szkoda_majątkowa\",\n",
    "    \"nieszczęście\",\n",
    "    \"rozwód\"\n",
    "]:\n",
    "    print(phrase)\n",
    "    print(model.wv.most_similar(phrase, topn=3))\n",
    "    print()"
   ]
  },
  {
   "cell_type": "code",
   "execution_count": 14,
   "metadata": {},
   "outputs": [
    {
     "name": "stdout",
     "output_type": "stream",
     "text": [
      "sąd_najwyższy - kpc + konstytucja = \n",
      "('sąd_najwyższy', 0.7782818675041199)\n",
      "('trybunał_konstytucyjny', 0.6183925867080688)\n",
      "('trybunał', 0.6083720922470093)\n",
      "('sąd_najwyższy,_który', 0.5794469118118286)\n",
      "('sad_najwyższy', 0.554322361946106)\n",
      "\n",
      "pasażer - mężczyzna + kobieta = \n",
      "('poszkodowana', 0.5074002742767334)\n",
      "('powódka_wzajemna', 0.45283037424087524)\n",
      "('reakcja_żałoby', 0.44502967596054077)\n",
      "('matka_powódki', 0.4326050281524658)\n",
      "('infekcja', 0.43229708075523376)\n",
      "\n",
      "samochód - droga + rzeka = \n",
      "('samochód', 0.7904103398323059)\n",
      "('pojazd', 0.6861567497253418)\n",
      "('towar', 0.6181960105895996)\n",
      "('samochód,', 0.612237274646759)\n",
      "('pojazd_ten', 0.6054666042327881)\n",
      "\n"
     ]
    }
   ],
   "source": [
    "def print_resultant(x, y, z):\n",
    "    print(\"%s - %s + %s = \" % (x, y, z))\n",
    "    for result in model.wv.similar_by_vector( model.wv[x] - model.wv[y] + model.wv[z], topn=5):\n",
    "        print(result)\n",
    "    print()\n",
    "\n",
    "print_resultant(\"sąd_najwyższy\", \"kpc\", \"konstytucja\")\n",
    "print_resultant(\"pasażer\", \"mężczyzna\", \"kobieta\")\n",
    "print_resultant(\"samochód\", \"droga\", \"rzeka\")"
   ]
  },
  {
   "cell_type": "code",
   "execution_count": 30,
   "metadata": {},
   "outputs": [
    {
     "data": {
      "image/png": "[encoded data removed]",
      "text/plain": [
       "<matplotlib.figure.Figure at 0x26673ce8fd0>"
      ]
     },
     "metadata": {},
     "output_type": "display_data"
    }
   ],
   "source": [
    "%matplotlib inline\n",
    "from sklearn.manifold import TSNE\n",
    "from matplotlib.pyplot import scatter\n",
    "from matplotlib import pyplot as plt\n",
    "\n",
    "vectors = [\n",
    "    model.wv['szkoda'], \n",
    "    model.wv['strata'],\n",
    "    model.wv['uszczerbek'],\n",
    "    model.wv['szkoda_majątkowa'],\n",
    "#     model.wv['uszczerbek_na_zdrowiu'],\n",
    "    model.wv['krzywda'],\n",
    "    model.wv['niesprawiedliwość'],\n",
    "    model.wv['nieszczęście']\n",
    "]\n",
    "\n",
    "x = TSNE(n_components=2).fit(vectors)\n",
    "X_transformed = x.fit_transform(vectors)\n",
    "labels = ['szkoda', 'strata', 'uszczerbek', 'szkoda_majątkowa', 'krzywda', 'niesprawiedliwość', 'nieszczęście']\n",
    "\n",
    "fig, ax = plt.subplots()\n",
    "ax.scatter([point[0] for point in X_transformed], [point[1] for point in X_transformed])\n",
    "\n",
    "for i, txt in enumerate(labels):\n",
    "    ax.annotate(txt, (X_transformed[i][0], X_transformed[i][1]))"
   ]
  },
  {
   "cell_type": "code",
   "execution_count": null,
   "metadata": {},
   "outputs": [],
   "source": []
  }
 ],
 "metadata": {
  "kernelspec": {
   "display_name": "Python 3",
   "language": "python",
   "name": "python3"
  },
  "language_info": {
   "codemirror_mode": {
    "name": "ipython",
    "version": 3
   },
   "file_extension": ".py",
   "mimetype": "text/x-python",
   "name": "python",
   "nbconvert_exporter": "python",
   "pygments_lexer": "ipython3",
   "version": "3.5.4"
  }
 },
 "nbformat": 4,
 "nbformat_minor": 2
}
