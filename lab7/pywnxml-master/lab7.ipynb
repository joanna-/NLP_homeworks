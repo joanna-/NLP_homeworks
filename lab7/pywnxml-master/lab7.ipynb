{
 "cells": [
  {
   "cell_type": "code",
   "execution_count": 4,
   "metadata": {},
   "outputs": [],
   "source": [
    "from WNQuery import *"
   ]
  },
  {
   "cell_type": "code",
   "execution_count": 14,
   "metadata": {},
   "outputs": [],
   "source": [
    "warnings_file = open('warnings.txt','w')\n",
    "wnquery = WNQuery(\"plwordnet_3_1/plwordnet-3.1-visdisc.xml\", log=warnings_file)"
   ]
  },
  {
   "cell_type": "code",
   "execution_count": 16,
   "metadata": {},
   "outputs": [
    {
     "name": "stdout",
     "output_type": "stream",
     "text": [
      "PoS\t\t#synsets\t#word senses\t#words\n",
      "Nouns\t\t132398\t\t176779\t\t134778\n",
      "Verbs\t\t27693\t\t38564\t\t19595\n",
      "Adjectives\t11256\t\t14035\t\t8006\n",
      "Adverbs\t\t0\t\t0\t\t0\n"
     ]
    }
   ],
   "source": [
    "import sys\n",
    "wnquery.writeStats(sys.stdout)"
   ]
  },
  {
   "cell_type": "code",
   "execution_count": 20,
   "metadata": {},
   "outputs": [
    {
     "name": "stdout",
     "output_type": "stream",
     "text": [
      "PLWN-00003675-n  {strata:1, utrata:1, szkoda:2, uszczerbek:1}  ()\n",
      "PLWN-00006533-n  {szkoda:1}  (brak danych)\n"
     ]
    }
   ],
   "source": [
    "# Znajdź wszystkie znaczenia rzeczownika szkoda oraz wymień ich synonimy (jeśli posiadają).\n",
    "meanings = wnquery.lookUpLiteral('szkoda', 'n')\n",
    "for meaning in meanings:\n",
    "    print(meaning.toString())"
   ]
  },
  {
   "cell_type": "code",
   "execution_count": 59,
   "metadata": {},
   "outputs": [
    {
     "name": "stdout",
     "output_type": "stream",
     "text": [
      "PLWN-00410902-n  {wypadek drogowy:1}  ()\n",
      "PLWN-00410901-n  {wypadek komunikacyjny:1}  ()\n",
      "PLWN-00003982-n  {wypadek:1}  ()\n",
      "PLWN-00027419-n  {zdarzenie oceniane negatywnie:1}  (brak danych)\n",
      "PLWN-00006526-n  {wydarzenie:1, wypadek:3, zdarzenie:2, historia:3}  ()\n"
     ]
    },
    {
     "data": {
      "image/png": "[encoded data removed]",
      "text/plain": [
       "<matplotlib.figure.Figure at 0x2aa76661278>"
      ]
     },
     "metadata": {},
     "output_type": "display_data"
    }
   ],
   "source": [
    "# Znajdź domknięcie przechodnie relacji hiperonimi dla pierwszego znaczenia wyrażenia wypadek drogowy \n",
    "# i przedstaw je w postaci grafu skierowanego.\n",
    "meaning = wnquery.lookUpSense('wypadek drogowy', 1, 'n')\n",
    "graph = []\n",
    "\n",
    "def traceRelation(wnquery, wnid, pos, rel):\n",
    "    res = []\n",
    "    ids = wnquery.lookUpRelation(wnid, pos, rel)\n",
    "    res.append(wnid)\n",
    "    print(wnquery.getSynset(wnid, 'n').toString())\n",
    "    for i in ids:  \n",
    "        graph.append((wnid, i))\n",
    "        res.extend(traceRelation(wnquery, i, pos, rel))\n",
    "    return res\n",
    "\n",
    "traceRelation(wnquery, meaning.wnid, 'n', 'hypernym')\n",
    "\n",
    "import networkx as nx\n",
    "import numpy as np\n",
    "import matplotlib.pyplot as plt\n",
    "%matplotlib inline\n",
    "\n",
    "G = nx.DiGraph()\n",
    "G.add_edges_from(graph)\n",
    "plt.figure(figsize=(12,3)) \n",
    "nx.draw_spring(G, with_labels = True)\n",
    "plt.show()"
   ]
  },
  {
   "cell_type": "code",
   "execution_count": null,
   "metadata": {},
   "outputs": [],
   "source": [
    "# Znajdź bezpośrednie hiponimy rzeczownika wypadek1.\n",
    "pass"
   ]
  },
  {
   "cell_type": "code",
   "execution_count": null,
   "metadata": {},
   "outputs": [],
   "source": [
    "# Znajdź hiponimy drugiego rzędu dla rzeczownika wypadek1.\n",
    "pass"
   ]
  },
  {
   "cell_type": "code",
   "execution_count": null,
   "metadata": {},
   "outputs": [],
   "source": [
    "# Przedstaw w postaci grafu skierowanego (z etykietami dla krawędzi) relacje semantyczne pomiędzy następującymi grupami leksemów:\n",
    "# szkoda2, strata1, uszczerbek1, szkoda majątkowa1, uszczerbek na zdrowiu1, krzywda1, niesprawiedliwość1, nieszczęście2.\n",
    "pass\n",
    "# wypadek1, wypadek komunikacyjny1, kolizja2, zderzenie2, kolizja drogowa1, bezkolizyjny2, \n",
    "# katastrofa budowlana1, wypadek drogowy1.\n",
    "pass"
   ]
  }
 ],
 "metadata": {
  "kernelspec": {
   "display_name": "Python 3",
   "language": "python",
   "name": "python3"
  },
  "language_info": {
   "codemirror_mode": {
    "name": "ipython",
    "version": 3
   },
   "file_extension": ".py",
   "mimetype": "text/x-python",
   "name": "python",
   "nbconvert_exporter": "python",
   "pygments_lexer": "ipython3",
   "version": "3.6.3"
  }
 },
 "nbformat": 4,
 "nbformat_minor": 2
}
