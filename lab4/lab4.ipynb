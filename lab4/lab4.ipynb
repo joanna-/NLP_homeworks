{
 "cells": [
  {
   "cell_type": "code",
   "execution_count": 1,
   "metadata": {
    "collapsed": true
   },
   "outputs": [],
   "source": [
    "# put absolute path here\n",
    "DATA_DIR = r\"C:\\Users\\User\\Downloads\\saos-dump-23.02.2018.tar\\saos-dump-23.02.2018\\data\\json\""
   ]
  },
  {
   "cell_type": "code",
   "execution_count": 2,
   "metadata": {
    "collapsed": true
   },
   "outputs": [],
   "source": [
    "# making usage of my helper .py file in jupyter environment on any computer\n",
    "import os, sys\n",
    "module_path = os.path.abspath(os.path.join('..'))\n",
    "if module_path not in sys.path:\n",
    "    sys.path.append(module_path)\n",
    "from file_utils import *\n",
    "data_manager = DataManager(DATA_DIR)"
   ]
  },
  {
   "cell_type": "code",
   "execution_count": 3,
   "metadata": {
    "collapsed": true
   },
   "outputs": [],
   "source": [
    "# Actual homework starts here\n",
    "import re\n",
    "generator = data_manager.judgments_generator(year=2009)"
   ]
  },
  {
   "cell_type": "code",
   "execution_count": 4,
   "metadata": {
    "collapsed": true
   },
   "outputs": [],
   "source": [
    "def contain_digit(x):\n",
    "    return re.search(r'\\d', x) is not None\n",
    "\n",
    "def remove_html(x):\n",
    "    return re.sub(\"<[^>]*>\", \"\", x)\n",
    "\n",
    "def remove_linebreaks(x):\n",
    "    return re.sub(\"-\\n\", \"\", x)"
   ]
  },
  {
   "cell_type": "code",
   "execution_count": 5,
   "metadata": {},
   "outputs": [],
   "source": [
    "from collections import defaultdict\n",
    "bigrams = defaultdict(int)\n",
    "frequency_list = defaultdict(int)\n",
    "              \n",
    "while True:\n",
    "    try:\n",
    "        content = generator.__next__()\n",
    "        text = remove_linebreaks(remove_html(content[\"textContent\"]))\n",
    "        words_found = [x.lower() for x in re.findall(r'\\b\\w\\w+\\b', text, re.UNICODE) \n",
    "                       if not contain_digit(x)]\n",
    "        for index in range(len(words_found)-1):\n",
    "            word1 = words_found[index]\n",
    "            word2 = words_found[index+1]\n",
    "            bigrams[(max([word1, word2]), min([word1, word2]))] += 1\n",
    "            frequency_list[words_found[index]] += 1\n",
    "        frequency_list[words_found[len(words_found)-1]] += 1    \n",
    "    except StopIteration:\n",
    "        break"
   ]
  },
  {
   "cell_type": "code",
   "execution_count": 6,
   "metadata": {},
   "outputs": [
    {
     "data": {
      "text/plain": [
       "[(('ust', 'art'), 69392),\n",
       " (('poz', 'nr'), 26913),\n",
       " (('podstawie', 'na'), 21649),\n",
       " (('ust', 'pkt'), 19057),\n",
       " (('ustawy', 'ust'), 16745),\n",
       " (('zamówień', 'publicznych'), 15098),\n",
       " (('nr', 'dz'), 13686),\n",
       " (('zamawiającego', 'przez'), 12455),\n",
       " (('podstawie', 'art'), 12143),\n",
       " (('ustawy', 'dnia'), 11545),\n",
       " (('sygn', 'akt'), 10522),\n",
       " (('rzecz', 'na'), 10209),\n",
       " (('się', 'do'), 10133),\n",
       " (('ustawy', 'pzp'), 10126),\n",
       " (('związku', 'art'), 9847),\n",
       " (('sąd', 'najwyższy'), 9623),\n",
       " (('ustawy', 'pkt'), 9520),\n",
       " (('art', 'art'), 9479),\n",
       " (('ustawy', 'art'), 9356),\n",
       " (('nie', 'jest'), 9108),\n",
       " (('zw', 'art'), 8363),\n",
       " (('pkt', 'art'), 8270),\n",
       " (('oraz', 'art'), 8261),\n",
       " (('nie', 'może'), 8092),\n",
       " (('do', 'co'), 8039),\n",
       " (('ze', 'poz'), 7959),\n",
       " (('zm', 'ze'), 7696),\n",
       " (('sądu', 'najwyższego'), 7065),\n",
       " (('sąd', 'okręgowy'), 7062),\n",
       " (('ust', 'konstytucji'), 7037)]"
      ]
     },
     "execution_count": 6,
     "metadata": {},
     "output_type": "execute_result"
    }
   ],
   "source": [
    "sorted(bigrams.items(), key=lambda x: x[1], reverse=True)[:30]   "
   ]
  },
  {
   "cell_type": "code",
   "execution_count": 7,
   "metadata": {},
   "outputs": [
    {
     "name": "stdout",
     "output_type": "stream",
     "text": [
      "Number of words is: 8975183\n",
      "Number of bigrams is: 8970646\n"
     ]
    }
   ],
   "source": [
    "import math\n",
    "\n",
    "words_num = sum(frequency_list.values())\n",
    "bigrams_num = sum(bigrams.values())\n",
    "\n",
    "print(\"Number of words is: %d\" % words_num)\n",
    "print(\"Number of bigrams is: %d\" % bigrams_num)\n",
    "\n",
    "def calculate_PMI(bigram):\n",
    "    word1 = max(bigram)\n",
    "    word2 = min(bigram)\n",
    "    return math.log((\n",
    "        (bigrams[bigram]/bigrams_num)/(\n",
    "            (frequency_list[word1]/words_num) * (frequency_list[word2]/words_num)\n",
    "        )\n",
    "    ))"
   ]
  },
  {
   "cell_type": "code",
   "execution_count": 8,
   "metadata": {},
   "outputs": [
    {
     "data": {
      "text/plain": [
       "[(('łukowego', 'napawania'), 16.010479514926725),\n",
       " (('przyjeżdżają', 'mochody'), 16.010479514926725),\n",
       " (('systematycznością', 'stabilnością'), 16.010479514926725),\n",
       " (('śużla', 'osadnika'), 16.010479514926725),\n",
       " (('puhb', 'cewogaz'), 16.010479514926725),\n",
       " (('uścikowiec', 'oborniki'), 16.010479514926725),\n",
       " (('zaspawaniu', 'oszlifowaniu'), 16.010479514926725),\n",
       " (('transmisjami', 'piłkarskimi'), 16.010479514926725),\n",
       " (('rozjaśnione', 'rozbielone'), 16.010479514926725),\n",
       " (('laboratoryjni', 'diagności'), 16.010479514926725),\n",
       " (('immunopatologicznych', 'histochemicznych'), 16.010479514926725),\n",
       " (('mikroskopii', 'immunopatologicznych'), 16.010479514926725),\n",
       " (('przydomowego', 'ogródka'), 16.010479514926725),\n",
       " (('rybnym', 'przetwórcom'), 16.010479514926725),\n",
       " (('wkładową', 'książeczką'), 16.010479514926725),\n",
       " (('wkładową', 'walutową'), 16.010479514926725),\n",
       " (('walutową', 'książeczka'), 16.010479514926725),\n",
       " (('kobylarnia', 'brzoza'), 16.010479514926725),\n",
       " (('societe', 'anonyme'), 16.010479514926725),\n",
       " (('navigation', 'aerienne'), 16.010479514926725),\n",
       " (('sabena', 'aerienne'), 16.010479514926725),\n",
       " (('receptor', 'frd'), 16.010479514926725),\n",
       " (('seriograf', 'przymocowanym'), 16.010479514926725),\n",
       " (('niedokrwistości', 'nerkopochodnej'), 16.010479514926725),\n",
       " (('nawracającymi', 'migrenami'), 16.010479514926725),\n",
       " (('bearcoms', 'airadionet'), 16.010479514926725),\n",
       " (('świerzbin', 'ułanowicz'), 16.010479514926725),\n",
       " (('zespoleń', 'destabilizacją'), 16.010479514926725),\n",
       " (('wiślanym', 'wale'), 16.010479514926725),\n",
       " (('spokojnym', 'opanowanym'), 16.010479514926725)]"
      ]
     },
     "execution_count": 8,
     "metadata": {},
     "output_type": "execute_result"
    }
   ],
   "source": [
    "pmis = {}\n",
    "for bigram in bigrams.keys():\n",
    "    pmis[bigram] = calculate_PMI(bigram)\n",
    "\n",
    "sorted(pmis.items(), key=lambda x: x[1], reverse=True)[:30]     "
   ]
  },
  {
   "cell_type": "code",
   "execution_count": null,
   "metadata": {
    "collapsed": true
   },
   "outputs": [],
   "source": []
  }
 ],
 "metadata": {
  "kernelspec": {
   "display_name": "Python 3",
   "language": "python",
   "name": "python3"
  },
  "language_info": {
   "codemirror_mode": {
    "name": "ipython",
    "version": 3
   },
   "file_extension": ".py",
   "mimetype": "text/x-python",
   "name": "python",
   "nbconvert_exporter": "python",
   "pygments_lexer": "ipython3",
   "version": "3.6.3"
  }
 },
 "nbformat": 4,
 "nbformat_minor": 2
}
