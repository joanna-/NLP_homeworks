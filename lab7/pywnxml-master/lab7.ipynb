{
 "cells": [
  {
   "cell_type": "code",
   "execution_count": 1,
   "metadata": {},
   "outputs": [],
   "source": [
    "from WNQuery import *"
   ]
  },
  {
   "cell_type": "code",
   "execution_count": null,
   "metadata": {},
   "outputs": [],
   "source": [
    "warnings_file = open('warnings.txt','w')\n",
    "wnquery = WNQuery(\"plwordnet_3_1/plwordnet-3.1-visdisc.xml\", log=warnings_file)"
   ]
  },
  {
   "cell_type": "code",
   "execution_count": null,
   "metadata": {},
   "outputs": [],
   "source": [
    "import sys\n",
    "wnquery.writeStats(sys.stdout)"
   ]
  },
  {
   "cell_type": "code",
   "execution_count": null,
   "metadata": {},
   "outputs": [],
   "source": [
    "# Znajdź wszystkie znaczenia rzeczownika szkoda oraz wymień ich synonimy (jeśli posiadają).\n",
    "meanings = wnquery.lookUpLiteral('szkoda', 'n')\n",
    "for meaning in meanings:\n",
    "    print(meaning.toString())"
   ]
  },
  {
   "cell_type": "code",
   "execution_count": null,
   "metadata": {},
   "outputs": [],
   "source": [
    "# Znajdź domknięcie przechodnie relacji hiperonimi dla pierwszego znaczenia wyrażenia wypadek drogowy \n",
    "# i przedstaw je w postaci grafu skierowanego.\n",
    "meaning = wnquery.lookUpSense('wypadek drogowy', 1, 'n')\n",
    "graph = []\n",
    "\n",
    "def traceRelation(wnquery, wnid, pos, rel):\n",
    "    res = []\n",
    "    ids = wnquery.lookUpRelation(wnid, pos, rel)\n",
    "    res.append(wnid)\n",
    "    print(wnquery.getSynset(wnid, 'n').toString())\n",
    "    for i in ids:  \n",
    "        graph.append((wnid, i))\n",
    "        res.extend(traceRelation(wnquery, i, pos, rel))\n",
    "    return res\n",
    "\n",
    "traceRelation(wnquery, meaning.wnid, 'n', 'hypernym')\n",
    "\n",
    "import networkx as nx\n",
    "import numpy as np\n",
    "import matplotlib.pyplot as plt\n",
    "%matplotlib inline\n",
    "\n",
    "G = nx.DiGraph()\n",
    "G.add_edges_from(graph)\n",
    "plt.figure(figsize=(12,3)) \n",
    "nx.draw_spring(G, with_labels = True)\n",
    "plt.show()"
   ]
  },
  {
   "cell_type": "code",
   "execution_count": null,
   "metadata": {},
   "outputs": [],
   "source": [
    "# Znajdź bezpośrednie hiponimy rzeczownika wypadek1.\n",
    "meaning = wnquery.lookUpSense('wypadek', 1, 'n')\n",
    "relation = wnquery.lookUpRelation(meaning.wnid, meaning.pos, 'hyponym')\n",
    "for meaning in relation:\n",
    "    print(wnquery.getSynset(meaning, 'n').toString())"
   ]
  },
  {
   "cell_type": "code",
   "execution_count": null,
   "metadata": {},
   "outputs": [],
   "source": [
    "# Znajdź hiponimy drugiego rzędu dla rzeczownika wypadek1.\n",
    "meaning = wnquery.lookUpSense('wypadek', 1, 'n')\n",
    "relation = wnquery.lookUpRelation(meaning.wnid, meaning.pos, 'hyponym')\n",
    "for meaning in relation:\n",
    "    synset = wnquery.getSynset(meaning, 'n')\n",
    "    relations = wnquery.lookUpRelation(synset.wnid, synset.pos, 'hyponym')\n",
    "    for rel in relations:\n",
    "        print(wnquery.getSynset(rel, 'n').toString())"
   ]
  },
  {
   "cell_type": "code",
   "execution_count": null,
   "metadata": {
    "scrolled": false
   },
   "outputs": [],
   "source": [
    "# Przedstaw w postaci grafu skierowanego (z etykietami dla krawędzi) relacje semantyczne pomiędzy następującymi grupami leksemów:\n",
    "# szkoda2, strata1, uszczerbek1, szkoda majątkowa1, uszczerbek na zdrowiu1, krzywda1, niesprawiedliwość1, nieszczęście2.\n",
    "literals1 = {'szkoda': 1, 'strata': 1, 'uszczerbek': 1, 'szkoda majątkowa': 1, 'uszczerbek na zdrowiu': 1, 'krzywda': 1,\n",
    "             'niesprawiedliwość': 1, 'nieszczęście': 2}\n",
    "\n",
    "# wypadek1, wypadek komunikacyjny1, kolizja2, zderzenie2, kolizja drogowa1, bezkolizyjny2, \n",
    "# katastrofa budowlana1, wypadek drogowy1.\n",
    "literals2 = {'wypadek': 1, 'wypadek komunikacyjny': 1, 'kolizja': 2, 'zderzenie': 2, 'kolizja drogowa': 1, \n",
    "             'katastrofa budowlana': 1, 'wypadek drogowy': 1}\n",
    "\n",
    "def get_synset_literals(synset, literals):\n",
    "    return '\\n'.join(filter(lambda x: x in literals, [synonym.literal for synonym in synset.synonyms]))\n",
    "\n",
    "import itertools\n",
    "def draw_relations(literals, skip=[]):\n",
    "    synsets = [wnquery.lookUpSense(literal, pos, 'n') for literal, pos in literals.items()]\n",
    "    synsets_ids = [synset.wnid for synset in synsets]\n",
    "    \n",
    "    G = nx.DiGraph()\n",
    "    meaningful_relations = {}\n",
    "    for synset in synsets:\n",
    "        for target_id, relation_type in synset.ilrs:\n",
    "            if target_id in synsets_ids:\n",
    "                if relation_type not in skip:\n",
    "                    G.add_edge(get_synset_literals(synset, literals), \n",
    "                               get_synset_literals(wnquery.lookUpID(target_id, 'n'), literals), \n",
    "                               rel=relation_type)\n",
    "\n",
    "    plt.figure(figsize=(20,20)) \n",
    "    G.add_edges_from(meaningful_relations.keys())\n",
    "    pos = nx.spring_layout(G)\n",
    "    nx.draw(G, pos, with_labels=True, arrows=False)\n",
    "    nx.draw_networkx_edge_labels(G, pos, label_pos=0.2)\n",
    "    plt.show()\n",
    "    \n",
    "#prevent overlapping of labels\n",
    "draw_relations(literals1)\n",
    "draw_relations(literals2)"
   ]
  },
  {
   "cell_type": "code",
   "execution_count": null,
   "metadata": {},
   "outputs": [],
   "source": []
  }
 ],
 "metadata": {
  "kernelspec": {
   "display_name": "Python 3",
   "language": "python",
   "name": "python3"
  },
  "language_info": {
   "codemirror_mode": {
    "name": "ipython",
    "version": 3
   },
   "file_extension": ".py",
   "mimetype": "text/x-python",
   "name": "python",
   "nbconvert_exporter": "python",
   "pygments_lexer": "ipython3",
   "version": "3.6.3"
  }
 },
 "nbformat": 4,
 "nbformat_minor": 2
}
