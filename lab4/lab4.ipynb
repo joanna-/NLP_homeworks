{
 "cells": [
  {
   "cell_type": "code",
   "execution_count": 1,
   "metadata": {
    "collapsed": true
   },
   "outputs": [],
   "source": [
    "# put absolute path here\n",
    "DATA_DIR = r\"C:\\Users\\User\\Downloads\\saos-dump-23.02.2018.tar\\saos-dump-23.02.2018\\data\\json\""
   ]
  },
  {
   "cell_type": "code",
   "execution_count": 2,
   "metadata": {
    "collapsed": true
   },
   "outputs": [],
   "source": [
    "# making usage of my helper .py file in jupyter environment on any computer\n",
    "import os, sys\n",
    "module_path = os.path.abspath(os.path.join('..'))\n",
    "if module_path not in sys.path:\n",
    "    sys.path.append(module_path)\n",
    "from file_utils import *\n",
    "data_manager = DataManager(DATA_DIR)"
   ]
  },
  {
   "cell_type": "code",
   "execution_count": 3,
   "metadata": {
    "collapsed": true
   },
   "outputs": [],
   "source": [
    "# Actual homework starts here\n",
    "import re\n",
    "generator = data_manager.judgments_generator(year=2009)"
   ]
  },
  {
   "cell_type": "code",
   "execution_count": 4,
   "metadata": {
    "collapsed": true
   },
   "outputs": [],
   "source": [
    "def contain_digit(x):\n",
    "    return re.search(r'\\d', x) is not None\n",
    "\n",
    "def remove_html(x):\n",
    "    return re.sub(\"<[^>]*>\", \"\", x)\n",
    "\n",
    "def remove_linebreaks(x):\n",
    "    return re.sub(\"-\\n\", \"\", x)"
   ]
  },
  {
   "cell_type": "code",
   "execution_count": 5,
   "metadata": {
    "collapsed": true
   },
   "outputs": [],
   "source": [
    "from collections import defaultdict\n",
    "bigrams = defaultdict(int)\n",
    "frequency_list = defaultdict(int)\n",
    "              \n",
    "while True:\n",
    "    try:\n",
    "        content = generator.__next__()\n",
    "        text = remove_linebreaks(remove_html(content[\"textContent\"]))\n",
    "        words_found = [x.lower() for x in re.findall(r'\\b\\w\\w+\\b', text, re.UNICODE) \n",
    "                       if not contain_digit(x)]\n",
    "        for index in range(len(words_found)-1):\n",
    "            word1 = words_found[index]\n",
    "            word2 = words_found[index+1]\n",
    "            bigrams[word1, word2] += 1\n",
    "            frequency_list[words_found[index]] += 1\n",
    "        frequency_list[words_found[len(words_found)-1]] += 1    \n",
    "    except StopIteration:\n",
    "        break"
   ]
  },
  {
   "cell_type": "code",
   "execution_count": 6,
   "metadata": {},
   "outputs": [
    {
     "data": {
      "text/plain": [
       "[(('art', 'ust'), 63755),\n",
       " (('nr', 'poz'), 24794),\n",
       " (('na', 'podstawie'), 21634),\n",
       " (('ust', 'pkt'), 18758),\n",
       " (('ust', 'ustawy'), 16731),\n",
       " (('zamówień', 'publicznych'), 15098),\n",
       " (('dz', 'nr'), 13621),\n",
       " (('przez', 'zamawiającego'), 12406),\n",
       " (('podstawie', 'art'), 12140),\n",
       " (('ustawy', 'dnia'), 11538),\n",
       " (('sygn', 'akt'), 10518),\n",
       " (('na', 'rzecz'), 10195),\n",
       " (('się', 'do'), 10133),\n",
       " (('ustawy', 'pzp'), 10119),\n",
       " (('pkt', 'ustawy'), 9515),\n",
       " (('art', 'art'), 9479),\n",
       " (('sąd', 'najwyższy'), 9345),\n",
       " (('art', 'ustawy'), 9075),\n",
       " (('nie', 'jest'), 8825),\n",
       " (('co', 'do'), 8012),\n",
       " (('nie', 'może'), 7973),\n",
       " (('poz', 'ze'), 7959),\n",
       " (('ze', 'zm'), 7676),\n",
       " (('ust', 'konstytucji'), 7015),\n",
       " (('sądu', 'najwyższego'), 6928),\n",
       " (('dnia', 'stycznia'), 6911),\n",
       " (('sąd', 'okręgowy'), 6684),\n",
       " (('sądu', 'okręgowego'), 6614),\n",
       " (('udziału', 'postępowaniu'), 6596),\n",
       " (('art', 'pkt'), 6569)]"
      ]
     },
     "execution_count": 6,
     "metadata": {},
     "output_type": "execute_result"
    }
   ],
   "source": [
    "sorted(bigrams.items(), key=lambda x: x[1], reverse=True)[:30]   "
   ]
  },
  {
   "cell_type": "code",
   "execution_count": 7,
   "metadata": {},
   "outputs": [
    {
     "name": "stdout",
     "output_type": "stream",
     "text": [
      "Number of words is: 8975183\n",
      "Number of bigrams is: 8970646\n"
     ]
    }
   ],
   "source": [
    "import math\n",
    "\n",
    "words_num = sum(frequency_list.values())\n",
    "bigrams_num = sum(bigrams.values())\n",
    "\n",
    "print(\"Number of words is: %d\" % words_num)\n",
    "print(\"Number of bigrams is: %d\" % bigrams_num)\n",
    "\n",
    "def calculate_PMI(bigram):\n",
    "    return math.log((\n",
    "        (bigrams[bigram]/bigrams_num)/(\n",
    "            (frequency_list[bigram[0]]/words_num) * (frequency_list[bigram[1]]/words_num)\n",
    "        )\n",
    "    ))"
   ]
  },
  {
   "cell_type": "code",
   "execution_count": 8,
   "metadata": {},
   "outputs": [
    {
     "data": {
      "text/plain": [
       "[(('napawania', 'łukowego'), 16.010479514926725),\n",
       " (('przyjeżdżają', 'mochody'), 16.010479514926725),\n",
       " (('systematycznością', 'stabilnością'), 16.010479514926725),\n",
       " (('osadnika', 'śużla'), 16.010479514926725),\n",
       " (('puhb', 'cewogaz'), 16.010479514926725),\n",
       " (('uścikowiec', 'oborniki'), 16.010479514926725),\n",
       " (('zaspawaniu', 'oszlifowaniu'), 16.010479514926725),\n",
       " (('transmisjami', 'piłkarskimi'), 16.010479514926725),\n",
       " (('rozjaśnione', 'rozbielone'), 16.010479514926725),\n",
       " (('diagności', 'laboratoryjni'), 16.010479514926725),\n",
       " (('histochemicznych', 'immunopatologicznych'), 16.010479514926725),\n",
       " (('immunopatologicznych', 'mikroskopii'), 16.010479514926725),\n",
       " (('przydomowego', 'ogródka'), 16.010479514926725),\n",
       " (('przetwórcom', 'rybnym'), 16.010479514926725),\n",
       " (('książeczką', 'wkładową'), 16.010479514926725),\n",
       " (('wkładową', 'walutową'), 16.010479514926725),\n",
       " (('walutową', 'książeczka'), 16.010479514926725),\n",
       " (('kobylarnia', 'brzoza'), 16.010479514926725),\n",
       " (('societe', 'anonyme'), 16.010479514926725),\n",
       " (('navigation', 'aerienne'), 16.010479514926725),\n",
       " (('aerienne', 'sabena'), 16.010479514926725),\n",
       " (('receptor', 'frd'), 16.010479514926725),\n",
       " (('seriograf', 'przymocowanym'), 16.010479514926725),\n",
       " (('niedokrwistości', 'nerkopochodnej'), 16.010479514926725),\n",
       " (('nawracającymi', 'migrenami'), 16.010479514926725),\n",
       " (('airadionet', 'bearcoms'), 16.010479514926725),\n",
       " (('ułanowicz', 'świerzbin'), 16.010479514926725),\n",
       " (('destabilizacją', 'zespoleń'), 16.010479514926725),\n",
       " (('wale', 'wiślanym'), 16.010479514926725),\n",
       " (('spokojnym', 'opanowanym'), 16.010479514926725)]"
      ]
     },
     "execution_count": 8,
     "metadata": {},
     "output_type": "execute_result"
    }
   ],
   "source": [
    "pmis = {}\n",
    "for bigram in bigrams.keys():\n",
    "    pmis[bigram] = calculate_PMI(bigram)\n",
    "\n",
    "sorted(pmis.items(), key=lambda x: x[1], reverse=True)[:30]     "
   ]
  },
  {
   "cell_type": "code",
   "execution_count": 9,
   "metadata": {},
   "outputs": [
    {
     "data": {
      "text/plain": [
       "[(('art', 'ust'), 506774.59219576477),\n",
       " (('nr', 'poz'), 270069.14650384255),\n",
       " (('zamówień', 'publicznych'), 204473.137278883),\n",
       " (('na', 'podstawie'), 167234.1288804641),\n",
       " (('dz', 'nr'), 146956.41287150426),\n",
       " (('ust', 'pkt'), 135966.0069371712),\n",
       " (('sygn', 'akt'), 135374.9478726683),\n",
       " (('sąd', 'najwyższy'), 103094.00035551893),\n",
       " (('ust', 'ustawy'), 102071.01117142508),\n",
       " (('trybunał', 'konstytucyjny'), 90235.07786853376),\n",
       " (('ze', 'zm'), 85265.55161486538),\n",
       " (('gr', 'słownie'), 83587.00344005921),\n",
       " (('sądu', 'najwyższego'), 77988.17972408858),\n",
       " (('ustawy', 'pzp'), 76381.7607765416),\n",
       " (('na', 'rzecz'), 76203.55075778105),\n",
       " (('przez', 'zamawiającego'), 75856.01663444626),\n",
       " (('sądu', 'okręgowego'), 74326.55875399089),\n",
       " (('udziału', 'postępowaniu'), 74232.11589492403),\n",
       " (('kio', 'uzp'), 74124.17136129543),\n",
       " (('sąd', 'okręgowy'), 72609.22686746098),\n",
       " (('podstawie', 'art'), 69340.97590788447),\n",
       " (('otk', 'zu'), 67095.48600554072),\n",
       " (('urzędu', 'zamówień'), 66738.62774770924),\n",
       " (('zero', 'groszy'), 65220.51839309554),\n",
       " (('poz', 'ze'), 64917.293134250955),\n",
       " (('prawo', 'zamówień'), 64042.09029167681),\n",
       " (('trybunału', 'konstytucyjnego'), 63806.212465805824),\n",
       " (('sąd', 'apelacyjny'), 63159.12739105445),\n",
       " (('ustawy', 'dnia'), 62188.97166699902),\n",
       " (('zł', 'gr'), 61272.51529574401)]"
      ]
     },
     "execution_count": 9,
     "metadata": {},
     "output_type": "execute_result"
    }
   ],
   "source": [
    "import numpy as np\n",
    "\n",
    "def llr(k):\n",
    "    return 2 * sum(k) * (H(k) - H([k[0] + k[1], k[2] + k[3]]) - H([k[0] + k[2], k[1] + k[3]]))\n",
    "\n",
    "def table(bigram):\n",
    "    \n",
    "    bigrams_num = bigrams[(bigram[0], bigram[1])] + bigrams[(bigram[0], bigram[1])]\n",
    "    \n",
    "    return [\n",
    "        bigrams[bigram],\n",
    "        frequency_list[bigram[1]] - bigrams[bigram],\n",
    "        frequency_list[bigram[0]] - bigrams[bigram],\n",
    "        bigrams_num + bigrams[bigram] - frequency_list[bigram[1]] - frequency_list[bigram[0]]\n",
    "    ]\n",
    "\n",
    "def H(k):\n",
    "    N = sum(k)\n",
    "    return sum([el / N * math.log(el / N + int(el == 0)) for el in k])\n",
    "\n",
    "logs = {}\n",
    "for bigram in bigrams.keys():\n",
    "    logs[bigram] = llr(table(bigram))\n",
    "\n",
    "sorted(logs.items(), key=lambda x: x[1], reverse=True)[:30]  "
   ]
  },
  {
   "cell_type": "code",
   "execution_count": 11,
   "metadata": {},
   "outputs": [
    {
     "name": "stdout",
     "output_type": "stream",
     "text": [
      "63755\n"
     ]
    }
   ],
   "source": [
    "print(bigrams['art', 'ust'])"
   ]
  },
  {
   "cell_type": "code",
   "execution_count": null,
   "metadata": {
    "collapsed": true
   },
   "outputs": [],
   "source": []
  }
 ],
 "metadata": {
  "kernelspec": {
   "display_name": "Python 3",
   "language": "python",
   "name": "python3"
  },
  "language_info": {
   "codemirror_mode": {
    "name": "ipython",
    "version": 3
   },
   "file_extension": ".py",
   "mimetype": "text/x-python",
   "name": "python",
   "nbconvert_exporter": "python",
   "pygments_lexer": "ipython3",
   "version": "3.6.3"
  }
 },
 "nbformat": 4,
 "nbformat_minor": 2
}
