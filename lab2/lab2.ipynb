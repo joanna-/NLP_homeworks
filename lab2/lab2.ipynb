{
 "cells": [
  {
   "cell_type": "code",
   "execution_count": 1,
   "metadata": {},
   "outputs": [],
   "source": [
    "# put absolute path here\n",
    "DATA_DIR = r\"C:\\Users\\Joanna\\NLP_homeworks\\json\"\n",
    "# put elastic search address here\n",
    "ELASTIC_ADDRESS = \"http://localhost:9200/\""
   ]
  },
  {
   "cell_type": "code",
   "execution_count": 2,
   "metadata": {},
   "outputs": [],
   "source": [
    "# making usage of my helper .py file in jupyter environment on any computer\n",
    "import os, sys\n",
    "module_path = os.path.abspath(os.path.join('..'))\n",
    "if module_path not in sys.path:\n",
    "    sys.path.append(module_path)\n",
    "from file_utils import *\n",
    "data_manager = DataManager(DATA_DIR)"
   ]
  },
  {
   "cell_type": "code",
   "execution_count": 3,
   "metadata": {},
   "outputs": [],
   "source": [
    "from elasticsearch_dsl import connections, InnerDoc, Text, DocType, Date, Keyword, Nested, Index, analyzer"
   ]
  },
  {
   "cell_type": "code",
   "execution_count": 4,
   "metadata": {},
   "outputs": [
    {
     "data": {
      "text/plain": [
       "{'acknowledged': True}"
      ]
     },
     "execution_count": 4,
     "metadata": {},
     "output_type": "execute_result"
    }
   ],
   "source": [
    "connections.create_connection(hosts=['localhost'], timeout=20)\n",
    "Index(name='judgments').delete()"
   ]
  },
  {
   "cell_type": "code",
   "execution_count": 5,
   "metadata": {},
   "outputs": [
    {
     "data": {
      "text/plain": [
       "<Response [200]>"
      ]
     },
     "execution_count": 5,
     "metadata": {},
     "output_type": "execute_result"
    }
   ],
   "source": [
    "put_body = {\n",
    "  \"settings\": {\n",
    "    \"analysis\": {\n",
    "      \"analyzer\": {\n",
    "        \"my_morfologik\": { \n",
    "          \"type\": \"custom\",\n",
    "          \"tokenizer\": \"standard\",\n",
    "          \"filter\": [\n",
    "            \"lowercase\",\n",
    "            \"morfologik_stem\"\n",
    "          ]\n",
    "        }\n",
    "      }\n",
    "    }\n",
    "  },\n",
    "  \"mappings\": {\n",
    "    \"doc\": {\n",
    "      \"properties\": {\n",
    "        \"text_field\": {\n",
    "          \"type\": \"text\",\n",
    "          \"analyzer\": \"my_morfologik\"\n",
    "        },\n",
    "        \"date\": {\n",
    "          \"type\": \"date\"\n",
    "        },\n",
    "        \"signature\": {\n",
    "          \"type\": \"keyword\"\n",
    "        },\n",
    "        \"judges\": {\n",
    "          \"type\": \"keyword\"\n",
    "        }\n",
    "      }\n",
    "    }\n",
    "  }\n",
    "}\n",
    "import requests\n",
    "requests.put(ELASTIC_ADDRESS+\"judgments\", json=put_body)"
   ]
  },
  {
   "cell_type": "code",
   "execution_count": 6,
   "metadata": {},
   "outputs": [],
   "source": [
    "class Judgment(DocType):\n",
    "    text_field = Text(analyzer=analyzer)\n",
    "    date = Date()\n",
    "    signature = Keyword()\n",
    "    judges = Keyword()\n",
    "        \n",
    "    class Meta:\n",
    "        index = 'judgments'\n",
    "        \n",
    "# judgments.doc_type(Judgment)        "
   ]
  },
  {
   "cell_type": "code",
   "execution_count": 7,
   "metadata": {},
   "outputs": [
    {
     "name": "stdout",
     "output_type": "stream",
     "text": [
      "Processing finished\n"
     ]
    }
   ],
   "source": [
    "generator = data_manager.judgments_generator(year=2009)\n",
    "while True:\n",
    "    try:  \n",
    "        content = generator.__next__()\n",
    "        text = content[\"textContent\"]\n",
    "        date = content[\"judgmentDate\"]\n",
    "        signature = content[\"id\"]\n",
    "        judges = content[\"judges\"]\n",
    "        \n",
    "        Judgment(text_field=text, date=date, signature=signature, judges=[judge['name'] for judge in judges]).save()\n",
    "    except StopIteration:\n",
    "        print(\"Processing finished\")\n",
    "        break"
   ]
  },
  {
   "cell_type": "code",
   "execution_count": 8,
   "metadata": {},
   "outputs": [
    {
     "name": "stdout",
     "output_type": "stream",
     "text": [
      "Total number of judgments cotaining damage word is: 733\n"
     ]
    }
   ],
   "source": [
    "from elasticsearch_dsl import Search\n",
    "query = Search().query(\"match\", text_field=\"szkodę\")\n",
    "query.execute()\n",
    "print(\"Total number of judgments cotaining damage word is: %d\" % query.count())"
   ]
  },
  {
   "cell_type": "code",
   "execution_count": 9,
   "metadata": {},
   "outputs": [
    {
     "name": "stdout",
     "output_type": "stream",
     "text": [
      "Total number of judgments cotaining phrase 'trwały uszczerbek na zdrowiu': 6\n"
     ]
    }
   ],
   "source": [
    "query = Search().query(\"match_phrase\", text_field=\"trwałemu uszczerbkowi na zdrowiu\")                                                                                                \n",
    "query.execute()\n",
    "print(\"Total number of judgments cotaining phrase 'trwały uszczerbek na zdrowiu': %d\" % query.count())"
   ]
  },
  {
   "cell_type": "code",
   "execution_count": 10,
   "metadata": {},
   "outputs": [
    {
     "name": "stdout",
     "output_type": "stream",
     "text": [
      "Total number of judgments containing phrase 'trwały uszczerbek na zdrowiu' with span: 7\n"
     ]
    }
   ],
   "source": [
    "# because span near span term does not get analysed\n",
    "# but still better than just match phrase with slope\n",
    "query = Search().query(\"span_near\", \n",
    "                       clauses=[\n",
    "                           {\"span_term\":{\"text_field\":\"trwały\"}},\n",
    "                           {\"span_term\":{\"text_field\":\"uszczerbek\"}},\n",
    "                           {\"span_term\":{\"text_field\":\"na\"}},\n",
    "                           {\"span_term\":{\"text_field\":\"zdrowie\"}}\n",
    "                        ],\n",
    "                       slop=2,\n",
    "                       in_order= True)\n",
    "query.execute()\n",
    "print(\"Total number of judgments containing phrase 'trwały uszczerbek na zdrowiu' with span: %d\" % query.count())"
   ]
  },
  {
   "cell_type": "code",
   "execution_count": 11,
   "metadata": {},
   "outputs": [
    {
     "name": "stdout",
     "output_type": "stream",
     "text": [
      "{'key': 'Andrzej Niwicki', 'doc_count': 234}\n",
      "{'key': 'Sylwester Kuchnio', 'doc_count': 225}\n",
      "{'key': 'Barbara Bettman', 'doc_count': 221}\n"
     ]
    }
   ],
   "source": [
    "# shard_size = 100 determines that coordinator asks each shard for 100 best judges\n",
    "query = Search()\n",
    "query.aggs.bucket('best', 'terms', field='judges', size=3, shard_size=100)\n",
    "\n",
    "for judge in query.execute().aggregations.best:\n",
    "    print(judge)"
   ]
  },
  {
   "cell_type": "code",
   "execution_count": null,
   "metadata": {},
   "outputs": [],
   "source": []
  }
 ],
 "metadata": {
  "kernelspec": {
   "display_name": "Python 3",
   "language": "python",
   "name": "python3"
  },
  "language_info": {
   "codemirror_mode": {
    "name": "ipython",
    "version": 3
   },
   "file_extension": ".py",
   "mimetype": "text/x-python",
   "name": "python",
   "nbconvert_exporter": "python",
   "pygments_lexer": "ipython3",
   "version": "3.6.3"
  }
 },
 "nbformat": 4,
 "nbformat_minor": 2
}
